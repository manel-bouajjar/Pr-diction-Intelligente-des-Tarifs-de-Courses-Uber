{
 "cells": [
  {
   "cell_type": "code",
   "execution_count": 4,
   "id": "d89a6a13-1e91-49ac-811d-41ba802f5fab",
   "metadata": {},
   "outputs": [],
   "source": [
    "import pandas as pd\n",
    "import geopy.distance"
   ]
  },
  {
   "cell_type": "code",
   "execution_count": 5,
   "id": "119e82a4-6eaf-480e-9ed9-474758c023a6",
   "metadata": {},
   "outputs": [],
   "source": [
    "# Importation du jeu de données\n",
    "df = pd.read_csv('datauber.csv')"
   ]
  },
  {
   "cell_type": "code",
   "execution_count": 6,
   "id": "5b19d20e-9e67-413e-9cca-bf8d64067146",
   "metadata": {},
   "outputs": [],
   "source": [
    "# Suppression des colonnes inutiles\n",
    "df.drop(['Unnamed: 0', 'key'], axis=1, inplace=True)"
   ]
  },
  {
   "cell_type": "code",
   "execution_count": 7,
   "id": "b577032f-a6ad-4d56-8514-39ec8e5526d8",
   "metadata": {},
   "outputs": [
    {
     "data": {
      "text/html": [
       "<div>\n",
       "<style scoped>\n",
       "    .dataframe tbody tr th:only-of-type {\n",
       "        vertical-align: middle;\n",
       "    }\n",
       "\n",
       "    .dataframe tbody tr th {\n",
       "        vertical-align: top;\n",
       "    }\n",
       "\n",
       "    .dataframe thead th {\n",
       "        text-align: right;\n",
       "    }\n",
       "</style>\n",
       "<table border=\"1\" class=\"dataframe\">\n",
       "  <thead>\n",
       "    <tr style=\"text-align: right;\">\n",
       "      <th></th>\n",
       "      <th>fare_amount</th>\n",
       "      <th>pickup_datetime</th>\n",
       "      <th>pickup_longitude</th>\n",
       "      <th>pickup_latitude</th>\n",
       "      <th>dropoff_longitude</th>\n",
       "      <th>dropoff_latitude</th>\n",
       "      <th>passenger_count</th>\n",
       "    </tr>\n",
       "  </thead>\n",
       "  <tbody>\n",
       "    <tr>\n",
       "      <th>0</th>\n",
       "      <td>7.5</td>\n",
       "      <td>2015-05-07 19:52:06 UTC</td>\n",
       "      <td>-73.999817</td>\n",
       "      <td>40.738354</td>\n",
       "      <td>-73.999512</td>\n",
       "      <td>40.723217</td>\n",
       "      <td>1.0</td>\n",
       "    </tr>\n",
       "    <tr>\n",
       "      <th>1</th>\n",
       "      <td>7.7</td>\n",
       "      <td>2009-07-17 20:04:56 UTC</td>\n",
       "      <td>-73.994355</td>\n",
       "      <td>40.728225</td>\n",
       "      <td>-73.994710</td>\n",
       "      <td>40.750325</td>\n",
       "      <td>1.0</td>\n",
       "    </tr>\n",
       "    <tr>\n",
       "      <th>2</th>\n",
       "      <td>12.9</td>\n",
       "      <td>NaN</td>\n",
       "      <td>-74.005043</td>\n",
       "      <td>40.740770</td>\n",
       "      <td>NaN</td>\n",
       "      <td>40.772647</td>\n",
       "      <td>1.0</td>\n",
       "    </tr>\n",
       "    <tr>\n",
       "      <th>3</th>\n",
       "      <td>5.3</td>\n",
       "      <td>2009-06-26 08:22:21 UTC</td>\n",
       "      <td>-73.976124</td>\n",
       "      <td>NaN</td>\n",
       "      <td>-73.965316</td>\n",
       "      <td>40.803349</td>\n",
       "      <td>3.0</td>\n",
       "    </tr>\n",
       "    <tr>\n",
       "      <th>4</th>\n",
       "      <td>16.0</td>\n",
       "      <td>2014-08-28 17:47:00 UTC</td>\n",
       "      <td>NaN</td>\n",
       "      <td>40.744085</td>\n",
       "      <td>-73.973082</td>\n",
       "      <td>NaN</td>\n",
       "      <td>5.0</td>\n",
       "    </tr>\n",
       "  </tbody>\n",
       "</table>\n",
       "</div>"
      ],
      "text/plain": [
       "   fare_amount          pickup_datetime  pickup_longitude  pickup_latitude  \\\n",
       "0          7.5  2015-05-07 19:52:06 UTC        -73.999817        40.738354   \n",
       "1          7.7  2009-07-17 20:04:56 UTC        -73.994355        40.728225   \n",
       "2         12.9                      NaN        -74.005043        40.740770   \n",
       "3          5.3  2009-06-26 08:22:21 UTC        -73.976124              NaN   \n",
       "4         16.0  2014-08-28 17:47:00 UTC               NaN        40.744085   \n",
       "\n",
       "   dropoff_longitude  dropoff_latitude  passenger_count  \n",
       "0         -73.999512         40.723217              1.0  \n",
       "1         -73.994710         40.750325              1.0  \n",
       "2                NaN         40.772647              1.0  \n",
       "3         -73.965316         40.803349              3.0  \n",
       "4         -73.973082               NaN              5.0  "
      ]
     },
     "metadata": {},
     "output_type": "display_data"
    }
   ],
   "source": [
    "# Affichage des premières lignes du jeu de données\n",
    "display(df.head())"
   ]
  },
  {
   "cell_type": "code",
   "execution_count": 12,
   "id": "1f98ccbb-ae73-4656-b00b-5b5521557215",
   "metadata": {},
   "outputs": [],
   "source": [
    "# Définition de la variable cible et des fonctionnalités\n",
    "target = 'fare_amount'\n",
    "features = [i for i in df.columns if i not in [target]]"
   ]
  },
  {
   "cell_type": "code",
   "execution_count": 14,
   "id": "b8c6f0b9-c8d8-402e-ae7e-9ed5b3a2af72",
   "metadata": {},
   "outputs": [
    {
     "name": "stdout",
     "output_type": "stream",
     "text": [
      " The Datset consists of 7 features & 44377 samples.\n"
     ]
    }
   ],
   "source": [
    "# Affichage des informations sur le jeu de données\n",
    "print(' The Datset consists of {} features & {} samples.'.format(df.shape[1], df.shape[0]))"
   ]
  },
  {
   "cell_type": "code",
   "execution_count": 16,
   "id": "236a1287-23a4-4d83-bcd0-324a7fdb3ac2",
   "metadata": {},
   "outputs": [
    {
     "name": "stdout",
     "output_type": "stream",
     "text": [
      "                   Total Null Values  Percentage\n",
      "fare_amount                     2160         4.9\n",
      "pickup_longitude                2194         4.9\n",
      "dropoff_longitude               2194         4.9\n",
      "passenger_count                 2218         5.0\n",
      "pickup_latitude                 2247         5.1\n",
      "dropoff_latitude                2258         5.1\n",
      "pickup_datetime                 2283         5.1\n"
     ]
    }
   ],
   "source": [
    "# Vérification des valeurs nulles\n",
    "nvc = pd.DataFrame(df.isnull().sum().sort_values(), columns=['Total Null Values'])\n",
    "nvc['Percentage'] = round(nvc['Total Null Values'] / df.shape[0], 3) * 100\n",
    "print(nvc)"
   ]
  },
  {
   "cell_type": "code",
   "execution_count": 18,
   "id": "408591a5-9005-4d0b-b5bb-38f2a8023f58",
   "metadata": {},
   "outputs": [],
   "source": [
    "# Suppression des lignes avec des valeurs nulles\n",
    "df.dropna(inplace=True)"
   ]
  },
  {
   "cell_type": "code",
   "execution_count": 20,
   "id": "de04d00d-4efb-494b-9dd2-be9171c3e083",
   "metadata": {},
   "outputs": [],
   "source": [
    "# Réorganisation des colonnes\n",
    "df = df[(df.pickup_latitude < 90) & (df.dropoff_latitude < 90) &\n",
    "        (df.pickup_latitude > -90) & (df.dropoff_latitude > -90) &\n",
    "        (df.pickup_longitude < 180) & (df.dropoff_longitude < 180) &\n",
    "        (df.pickup_longitude > -180) & (df.dropoff_longitude > -180)]"
   ]
  },
  {
   "cell_type": "code",
   "execution_count": 22,
   "id": "690622e3-34d4-4d14-8576-ea3829efd598",
   "metadata": {},
   "outputs": [],
   "source": [
    "# Conversion de la colonne 'pickup_datetime' en datetime\n",
    "df.pickup_datetime = pd.to_datetime(df.pickup_datetime)"
   ]
  },
  {
   "cell_type": "code",
   "execution_count": 23,
   "id": "bd38a94c-be4c-4073-9f42-cbe618c35a78",
   "metadata": {},
   "outputs": [],
   "source": [
    "# Extraction des informations temporelles\n",
    "df['year'] = df.pickup_datetime.dt.year\n",
    "df['month'] = df.pickup_datetime.dt.month\n",
    "df['weekday'] = df.pickup_datetime.dt.weekday\n",
    "df['hour'] = df.pickup_datetime.dt.hour"
   ]
  },
  {
   "cell_type": "code",
   "execution_count": 26,
   "id": "9f25d5e5-3b1f-4660-9618-58a5ff269dc8",
   "metadata": {},
   "outputs": [],
   "source": [
    "# Création de nouvelles fonctionnalités\n",
    "df['Monthly_Quarter'] = df.month.map({1: 'Q1', 2: 'Q1', 3: 'Q1', 4: 'Q2', 5: 'Q2', 6: 'Q2', 7: 'Q3',\n",
    "                                      8: 'Q3', 9: 'Q3', 10: 'Q4', 11: 'Q4', 12: 'Q4'})\n",
    "df['Hourly_Segments'] = df.hour.map({0: 'H1', 1: 'H1', 2: 'H1', 3: 'H1', 4: 'H2', 5: 'H2', 6: 'H2', 7: 'H2', 8: 'H3',\n",
    "                                     9: 'H3', 10: 'H3', 11: 'H3', 12: 'H4', 13: 'H4', 14: 'H4', 15: 'H4', 16: 'H5',\n",
    "                                     17: 'H5', 18: 'H5', 19: 'H5', 20: 'H6', 21: 'H6', 22: 'H6', 23: 'H6'})"
   ]
  },
  {
   "cell_type": "code",
   "execution_count": 28,
   "id": "8c96fa10-387a-4dd4-baea-6194df646674",
   "metadata": {},
   "outputs": [],
   "source": [
    "# Calcul de la distance entre les points de prise en charge et de dépose\n",
    "df['Distance'] = [round(geopy.distance.distance((df.pickup_latitude[i], df.pickup_longitude[i]),\n",
    "                                                 (df.dropoff_latitude[i], df.dropoff_longitude[i])).m, 2)\n",
    "                  for i in df.index]"
   ]
  },
  {
   "cell_type": "code",
   "execution_count": 29,
   "id": "0e156cde-cca2-4987-8ff7-581a7412d001",
   "metadata": {},
   "outputs": [],
   "source": [
    "# Suppression des colonnes inutiles\n",
    "df.drop(['pickup_datetime', 'month', 'hour'], axis=1, inplace=True)"
   ]
  },
  {
   "cell_type": "code",
   "execution_count": 15,
   "id": "0a543879-6bef-4278-ad0b-647300d1c30a",
   "metadata": {},
   "outputs": [],
   "source": [
    "# Sauvegarde du jeu de données original\n",
    "original_df = df.copy(deep=True)"
   ]
  },
  {
   "cell_type": "code",
   "execution_count": 30,
   "id": "2b081c9c-e5d6-4037-88bb-2efcd91b7f88",
   "metadata": {},
   "outputs": [],
   "source": [
    "# Sauvegarde du nouveau jeu de données nettoyé\n",
    "df.to_csv(\"nouveau_fichier_nettoye11.csv\", index=False)"
   ]
  },
  {
   "cell_type": "code",
   "execution_count": 31,
   "id": "4c3c5c55-82d4-408a-be36-70b3577bf055",
   "metadata": {},
   "outputs": [
    {
     "data": {
      "text/html": [
       "<div>\n",
       "<style scoped>\n",
       "    .dataframe tbody tr th:only-of-type {\n",
       "        vertical-align: middle;\n",
       "    }\n",
       "\n",
       "    .dataframe tbody tr th {\n",
       "        vertical-align: top;\n",
       "    }\n",
       "\n",
       "    .dataframe thead th {\n",
       "        text-align: right;\n",
       "    }\n",
       "</style>\n",
       "<table border=\"1\" class=\"dataframe\">\n",
       "  <thead>\n",
       "    <tr style=\"text-align: right;\">\n",
       "      <th></th>\n",
       "      <th>fare_amount</th>\n",
       "      <th>pickup_longitude</th>\n",
       "      <th>pickup_latitude</th>\n",
       "      <th>dropoff_longitude</th>\n",
       "      <th>dropoff_latitude</th>\n",
       "      <th>passenger_count</th>\n",
       "      <th>year</th>\n",
       "      <th>weekday</th>\n",
       "      <th>Monthly_Quarter</th>\n",
       "      <th>Hourly_Segments</th>\n",
       "      <th>Distance</th>\n",
       "    </tr>\n",
       "  </thead>\n",
       "  <tbody>\n",
       "    <tr>\n",
       "      <th>0</th>\n",
       "      <td>7.5</td>\n",
       "      <td>-73.999817</td>\n",
       "      <td>40.738354</td>\n",
       "      <td>-73.999512</td>\n",
       "      <td>40.723217</td>\n",
       "      <td>1.0</td>\n",
       "      <td>2015</td>\n",
       "      <td>3</td>\n",
       "      <td>Q2</td>\n",
       "      <td>H5</td>\n",
       "      <td>1681.11</td>\n",
       "    </tr>\n",
       "    <tr>\n",
       "      <th>1</th>\n",
       "      <td>7.7</td>\n",
       "      <td>-73.994355</td>\n",
       "      <td>40.728225</td>\n",
       "      <td>-73.994710</td>\n",
       "      <td>40.750325</td>\n",
       "      <td>1.0</td>\n",
       "      <td>2009</td>\n",
       "      <td>4</td>\n",
       "      <td>Q3</td>\n",
       "      <td>H6</td>\n",
       "      <td>2454.36</td>\n",
       "    </tr>\n",
       "    <tr>\n",
       "      <th>5</th>\n",
       "      <td>4.9</td>\n",
       "      <td>-73.969019</td>\n",
       "      <td>40.755910</td>\n",
       "      <td>-73.969019</td>\n",
       "      <td>40.755910</td>\n",
       "      <td>1.0</td>\n",
       "      <td>2011</td>\n",
       "      <td>5</td>\n",
       "      <td>Q1</td>\n",
       "      <td>H1</td>\n",
       "      <td>0.00</td>\n",
       "    </tr>\n",
       "    <tr>\n",
       "      <th>7</th>\n",
       "      <td>2.5</td>\n",
       "      <td>0.000000</td>\n",
       "      <td>0.000000</td>\n",
       "      <td>0.000000</td>\n",
       "      <td>0.000000</td>\n",
       "      <td>1.0</td>\n",
       "      <td>2012</td>\n",
       "      <td>1</td>\n",
       "      <td>Q4</td>\n",
       "      <td>H4</td>\n",
       "      <td>0.00</td>\n",
       "    </tr>\n",
       "    <tr>\n",
       "      <th>8</th>\n",
       "      <td>9.7</td>\n",
       "      <td>-73.975187</td>\n",
       "      <td>40.745767</td>\n",
       "      <td>-74.002720</td>\n",
       "      <td>40.743537</td>\n",
       "      <td>1.0</td>\n",
       "      <td>2012</td>\n",
       "      <td>4</td>\n",
       "      <td>Q1</td>\n",
       "      <td>H3</td>\n",
       "      <td>2338.56</td>\n",
       "    </tr>\n",
       "  </tbody>\n",
       "</table>\n",
       "</div>"
      ],
      "text/plain": [
       "   fare_amount  pickup_longitude  pickup_latitude  dropoff_longitude  \\\n",
       "0          7.5        -73.999817        40.738354         -73.999512   \n",
       "1          7.7        -73.994355        40.728225         -73.994710   \n",
       "5          4.9        -73.969019        40.755910         -73.969019   \n",
       "7          2.5          0.000000         0.000000           0.000000   \n",
       "8          9.7        -73.975187        40.745767         -74.002720   \n",
       "\n",
       "   dropoff_latitude  passenger_count  year  weekday Monthly_Quarter  \\\n",
       "0         40.723217              1.0  2015        3              Q2   \n",
       "1         40.750325              1.0  2009        4              Q3   \n",
       "5         40.755910              1.0  2011        5              Q1   \n",
       "7          0.000000              1.0  2012        1              Q4   \n",
       "8         40.743537              1.0  2012        4              Q1   \n",
       "\n",
       "  Hourly_Segments  Distance  \n",
       "0              H5   1681.11  \n",
       "1              H6   2454.36  \n",
       "5              H1      0.00  \n",
       "7              H4      0.00  \n",
       "8              H3   2338.56  "
      ]
     },
     "execution_count": 31,
     "metadata": {},
     "output_type": "execute_result"
    }
   ],
   "source": [
    "# Affichage des premières lignes du jeu de données nettoyé\n",
    "df.head()"
   ]
  },
  {
   "cell_type": "code",
   "execution_count": 36,
   "id": "e78ec90f-e57e-4bba-9c9c-93e0809a8dc0",
   "metadata": {},
   "outputs": [
    {
     "name": "stderr",
     "output_type": "stream",
     "text": [
      "Entraînement du modèle: 100%|██████████| 100/100 [00:00<00:00, 498.14it/s]"
     ]
    },
    {
     "name": "stdout",
     "output_type": "stream",
     "text": [
      "RMSE: 10.286288161944656\n"
     ]
    },
    {
     "name": "stderr",
     "output_type": "stream",
     "text": [
      "\n"
     ]
    }
   ],
   "source": [
    "import pandas as pd\n",
    "from sklearn.model_selection import train_test_split\n",
    "from sklearn.linear_model import LinearRegression\n",
    "from sklearn.metrics import mean_squared_error\n",
    "from tqdm import tqdm\n",
    "\n",
    "# Charger les données\n",
    "data = pd.read_csv(\"nouveau_fichier_nettoye11.csv\")\n",
    "\n",
    "# Sélectionner les colonnes spécifiées\n",
    "selected_columns = ['pickup_longitude', 'pickup_latitude', 'dropoff_longitude', 'dropoff_latitude', 'passenger_count', 'year', 'weekday', 'Monthly_Quarter', 'Hourly_Segments', 'Distance']\n",
    "X = data[selected_columns]\n",
    "Y = data[\"fare_amount\"]\n",
    "\n",
    "# Convertir les variables catégorielles en variables binaires\n",
    "X = pd.get_dummies(X, columns=['Monthly_Quarter', 'Hourly_Segments'])\n",
    "\n",
    "# Diviser les données en ensembles d'entraînement et de test\n",
    "X_train, X_test, Y_train, Y_test = train_test_split(X, Y, test_size=0.2, random_state=42)\n",
    "\n",
    "# Créer une barre de progression\n",
    "pbar = tqdm(total=100, desc=\"Entraînement du modèle\")\n",
    "\n",
    "# Entraîner le modèle de régression linéaire multiple\n",
    "model = LinearRegression()\n",
    "model.fit(X_train, Y_train)\n",
    "\n",
    "# Mettre à jour la barre de progression\n",
    "pbar.update(100)\n",
    "pbar.close()\n",
    "\n",
    "# Faire des prédictions sur l'ensemble de test\n",
    "predictions = model.predict(X_test)\n",
    "\n",
    "# Évaluer le modèle\n",
    "rmse = mean_squared_error(Y_test, predictions, squared=False)\n",
    "print(\"RMSE:\", rmse)\n"
   ]
  },
  {
   "cell_type": "code",
   "execution_count": 39,
   "id": "21844f24",
   "metadata": {},
   "outputs": [
    {
     "name": "stdout",
     "output_type": "stream",
     "text": [
      "RMSE: 5.2330585140467205\n"
     ]
    }
   ],
   "source": [
    "import pandas as pd\n",
    "from sklearn.model_selection import train_test_split\n",
    "from sklearn.ensemble import RandomForestRegressor\n",
    "from sklearn.metrics import mean_squared_error\n",
    "\n",
    "# Charger les données\n",
    "data = pd.read_csv(\"nouveau_fichier_nettoye11.csv\")\n",
    "\n",
    "# Sélectionner les colonnes spécifiées\n",
    "selected_columns = ['pickup_longitude', 'pickup_latitude', 'dropoff_longitude', 'dropoff_latitude', 'passenger_count', 'year', 'weekday', 'Monthly_Quarter', 'Hourly_Segments', 'Distance']\n",
    "X = data[selected_columns]\n",
    "Y = data[\"fare_amount\"]\n",
    "\n",
    "# Convertir les variables catégorielles en variables binaires\n",
    "X = pd.get_dummies(X, columns=['Monthly_Quarter', 'Hourly_Segments'])\n",
    "\n",
    "# Diviser les données en ensembles d'entraînement et de test\n",
    "X_train, X_test, Y_train, Y_test = train_test_split(X, Y, test_size=0.2, random_state=42)\n",
    "\n",
    "# Créer et entraîner le modèle de forêt aléatoire avec moins d'estimateurs\n",
    "model = RandomForestRegressor(n_estimators=50, random_state=42)  # Moins d'estimateurs pour réduire le temps d'exécution\n",
    "model.fit(X_train, Y_train)\n",
    "\n",
    "# Faire des prédictions sur l'ensemble de test\n",
    "predictions = model.predict(X_test)\n",
    "\n",
    "# Évaluer le modèle\n",
    "rmse = mean_squared_error(Y_test, predictions, squared=False)\n",
    "print(\"RMSE:\", rmse)\n"
   ]
  },
  {
   "cell_type": "code",
   "execution_count": null,
   "id": "544f89d6",
   "metadata": {},
   "outputs": [],
   "source": []
  }
 ],
 "metadata": {
  "kernelspec": {
   "display_name": "anaconda-panel-2023.05-py310",
   "language": "python",
   "name": "conda-env-anaconda-panel-2023.05-py310-py"
  },
  "language_info": {
   "codemirror_mode": {
    "name": "ipython",
    "version": 3
   },
   "file_extension": ".py",
   "mimetype": "text/x-python",
   "name": "python",
   "nbconvert_exporter": "python",
   "pygments_lexer": "ipython3",
   "version": "3.11.5"
  }
 },
 "nbformat": 4,
 "nbformat_minor": 5
}
